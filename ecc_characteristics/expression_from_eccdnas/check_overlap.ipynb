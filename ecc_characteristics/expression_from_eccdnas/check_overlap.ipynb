{
 "cells": [
  {
   "cell_type": "code",
   "execution_count": 34,
   "metadata": {},
   "outputs": [],
   "source": [
    "import csv\n",
    "import numpy as np"
   ]
  },
  {
   "cell_type": "code",
   "execution_count": 35,
   "metadata": {},
   "outputs": [],
   "source": [
    "region_file = 'zhang_all.ciri_out'\n",
    "ecc_file = 'noduplicates.all.ecc_caller_out.details.nolowq.txt'"
   ]
  },
  {
   "cell_type": "code",
   "execution_count": 36,
   "metadata": {},
   "outputs": [],
   "source": [
    "regions = []\n",
    "with open(region_file, newline = '') as file:\n",
    "    file_reader = csv.reader(file, delimiter = '\\t')\n",
    "    for row in file_reader:\n",
    "        regions.append([row[0], int(row[1]), int(row[2])])\n",
    "\n",
    "eccs = []\n",
    "with open(ecc_file, newline = '') as file:\n",
    "    file_reader = csv.reader(file, delimiter = '\\t')\n",
    "    for row in file_reader:\n",
    "        eccs.append([row[0], row[1], row[2]])"
   ]
  },
  {
   "cell_type": "code",
   "execution_count": 37,
   "metadata": {},
   "outputs": [],
   "source": [
    "eccs_indexed = [[] for i in range(56)]\n",
    "for ecc in eccs:\n",
    "    scaffold_num = int(ecc[0][10:12])-1\n",
    "    eccs_indexed[scaffold_num].append(ecc)\n",
    "eccs_arrays = []\n",
    "for i in range(len(eccs_indexed)):\n",
    "    eccs_arrays.append(np.array(eccs_indexed[i], dtype=object))"
   ]
  },
  {
   "cell_type": "code",
   "execution_count": 49,
   "metadata": {},
   "outputs": [
    {
     "name": "stdout",
     "output_type": "stream",
     "text": [
      "[['MQOP01000003.1' '2316366' '2316634']\n",
      " ['MQOP01000003.1' '2316366' '2316648']\n",
      " ['MQOP01000003.1' '2316375' '2316649']\n",
      " ['MQOP01000003.1' '2316398' '2316646']]\n",
      "['MQOP01000003.1', 2316397, 2316639]\n",
      "[['MQOP01000003.1' '3555390' '3555932']]\n",
      "['MQOP01000003.1', 3555379, 3555951]\n",
      "[['MQOP01000005.1' '1337267' '1337450']\n",
      " ['MQOP01000005.1' '1337269' '1337488']]\n",
      "['MQOP01000005.1', 1337275, 1337440]\n",
      "[['MQOP01000006.1' '473942' '474194']]\n",
      "['MQOP01000006.1', 473979, 474155]\n",
      "[['MQOP01000006.1' '1780228' '1780558']]\n",
      "['MQOP01000006.1', 1780247, 1780528]\n",
      "[['MQOP01000018.1' '303012' '303569']]\n",
      "['MQOP01000018.1', 302987, 303559]\n"
     ]
    }
   ],
   "source": [
    "regions_with_overlap = []\n",
    "tolerance = 50\n",
    "for region in regions:\n",
    "    start_region = region[1]\n",
    "    end_region= region[2]\n",
    "    eccs_for_scaffold = eccs_arrays[int(region[0][10:12])-1]\n",
    "    ecc_matches = eccs_for_scaffold[np.logical_and(np.isclose((eccs_for_scaffold[:,1]).astype(int), start_region, atol=tolerance, rtol=0),\n",
    "                                    np.isclose((eccs_for_scaffold[:,2]).astype(int), end_region, atol=tolerance, rtol=0))]\n",
    "    if np.shape(ecc_matches)[0] > 0:\n",
    "        regions_with_overlap.append(ecc_matches)\n",
    "        print(ecc_matches)\n",
    "        print(region)"
   ]
  },
  {
   "cell_type": "code",
   "execution_count": 50,
   "metadata": {},
   "outputs": [
    {
     "name": "stdout",
     "output_type": "stream",
     "text": [
      "57\n"
     ]
    }
   ],
   "source": [
    "print(len(regions))"
   ]
  },
  {
   "cell_type": "code",
   "execution_count": 51,
   "metadata": {},
   "outputs": [
    {
     "name": "stdout",
     "output_type": "stream",
     "text": [
      "6\n"
     ]
    }
   ],
   "source": [
    "print(len(regions_with_overlap))"
   ]
  }
 ],
 "metadata": {
  "kernelspec": {
   "display_name": "Python 3",
   "language": "python",
   "name": "python3"
  },
  "language_info": {
   "codemirror_mode": {
    "name": "ipython",
    "version": 3
   },
   "file_extension": ".py",
   "mimetype": "text/x-python",
   "name": "python",
   "nbconvert_exporter": "python",
   "pygments_lexer": "ipython3",
   "version": "3.7.6"
  }
 },
 "nbformat": 4,
 "nbformat_minor": 4
}
