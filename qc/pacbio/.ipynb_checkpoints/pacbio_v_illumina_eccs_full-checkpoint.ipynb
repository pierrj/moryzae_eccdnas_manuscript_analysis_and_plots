{
 "cells": [
  {
   "cell_type": "code",
   "execution_count": 1,
   "metadata": {},
   "outputs": [],
   "source": [
    "import csv\n",
    "import numpy as np\n",
    "import sys"
   ]
  },
  {
   "cell_type": "code",
   "execution_count": 2,
   "metadata": {},
   "outputs": [],
   "source": [
    "pacbio_file = 'G3_1A_pacbio_eccs.bed'\n",
    "illumina_file = 'G3_1A.ecc_caller_out.details.nolowq.txt'\n",
    "illumina_file_split_reads = 'mapq0_and_uniq_splitreads.allfalsepositives.bed'\n",
    "output = 'G3_1A.Pacbio_v_illumina'\n",
    "sample = 'G3_1A'"
   ]
  },
  {
   "cell_type": "code",
   "execution_count": 3,
   "metadata": {},
   "outputs": [],
   "source": [
    "pacbio_eccs = []\n",
    "with open(pacbio_file, newline = '') as file:\n",
    "    file_reader = csv.reader(file, delimiter = '\\t')\n",
    "    for row in file_reader:\n",
    "        pacbio_eccs.append([row[0], int(row[1]), int(row[2])])\n",
    "\n",
    "illumina = []\n",
    "with open(illumina_file, newline = '') as file:\n",
    "    file_reader = csv.reader(file, delimiter = '\\t')\n",
    "    for row in file_reader:\n",
    "        illumina.append([row[0], row[1], row[2]])\n",
    "illumina_indexed = [[] for i in range(56)]\n",
    "for ecc in illumina:\n",
    "    scaffold_num = int(ecc[0][10:12])-1\n",
    "    illumina_indexed[scaffold_num].append(ecc)\n",
    "illumina_arrays = []\n",
    "for i in range(len(illumina_indexed)):\n",
    "    illumina_arrays.append(np.array(illumina_indexed[i], dtype=object))\n",
    "\n",
    "pacbio_with_overlap = []\n",
    "overlap_count = []\n",
    "pacbio_no_overlap = []\n",
    "tolerance = 10\n",
    "for ecc in pacbio_eccs:\n",
    "    start_ecc = ecc[1]\n",
    "    end_ecc = ecc[2]\n",
    "    illumina_for_scaffold = illumina_arrays[int(ecc[0][10:12])-1]\n",
    "    ecc_matches = illumina_for_scaffold[np.logical_and(np.isclose((illumina_for_scaffold[:,1]).astype(int), start_ecc, atol=tolerance, rtol=0),\n",
    "                                    np.isclose((illumina_for_scaffold[:,2]).astype(int), end_ecc, atol=tolerance, rtol=0))]\n",
    "    if np.shape(ecc_matches)[0] > 0:\n",
    "        pacbio_with_overlap.append(ecc)\n",
    "        overlap_count.append(np.shape(ecc_matches)[0])\n",
    "    else:\n",
    "        pacbio_no_overlap.append(ecc)"
   ]
  },
  {
   "cell_type": "code",
   "execution_count": 4,
   "metadata": {},
   "outputs": [],
   "source": [
    "illumina_splitreads = []\n",
    "with open(illumina_file_split_reads, newline = '') as file:\n",
    "    file_reader = csv.reader(file, delimiter = '\\t')\n",
    "    for row in file_reader:\n",
    "        illumina_splitreads.append([row[0], row[1], row[2]])\n",
    "illumina_splitreads_indexed = [[] for i in range(56)]\n",
    "for ecc in illumina_splitreads:\n",
    "    scaffold_num = int(ecc[0][10:12])-1\n",
    "    illumina_splitreads_indexed[scaffold_num].append(ecc)\n",
    "illumina_splitreads_arrays = []\n",
    "for i in range(len(illumina_splitreads_indexed)):\n",
    "    illumina_splitreads_arrays.append(np.array(illumina_splitreads_indexed[i], dtype=object))\n",
    "\n",
    "pacbio_with_overlap_splitreads = []\n",
    "overlap_count = []\n",
    "pacbio_no_overlap_splitreads = []\n",
    "tolerance = 10\n",
    "for ecc in pacbio_eccs:\n",
    "    start_ecc = ecc[1]\n",
    "    end_ecc = ecc[2]\n",
    "    illumina_for_scaffold = illumina_splitreads_arrays[int(ecc[0][10:12])-1]\n",
    "    ecc_matches = illumina_for_scaffold[np.logical_and(np.isclose((illumina_for_scaffold[:,1]).astype(int), start_ecc, atol=tolerance, rtol=0),\n",
    "                                    np.isclose((illumina_for_scaffold[:,2]).astype(int), end_ecc, atol=tolerance, rtol=0))]\n",
    "    if np.shape(ecc_matches)[0] > 0:\n",
    "        pacbio_with_overlap_splitreads.append(ecc)\n",
    "        overlap_count.append(np.shape(ecc_matches)[0])\n",
    "    else:\n",
    "        pacbio_no_overlap_splitreads.append(ecc)"
   ]
  },
  {
   "cell_type": "code",
   "execution_count": 7,
   "metadata": {},
   "outputs": [
    {
     "name": "stdout",
     "output_type": "stream",
     "text": [
      "['G3_1A', 18759, 15431, 17039]\n"
     ]
    }
   ],
   "source": [
    "pacbio_eccs_count = len(pacbio_eccs)\n",
    "pacbio_eccs_overlap = len(pacbio_with_overlap)\n",
    "pacbio_eccs_splitreads_overlap = len(pacbio_with_overlap_splitreads)\n",
    "\n",
    "print([sample, pacbio_eccs_count, pacbio_eccs_overlap, pacbio_eccs_splitreads_overlap])\n",
    "\n",
    "with open(output, 'w', newline = '') as output_csv:\n",
    "    w = csv.writer(output_csv, delimiter = '\\t')\n",
    "    w.writerow([sample, pacbio_eccs_count, pacbio_eccs_overlap, pacbio_eccs_splitreads_overlap])"
   ]
  }
 ],
 "metadata": {
  "kernelspec": {
   "display_name": "Python 3",
   "language": "python",
   "name": "python3"
  },
  "language_info": {
   "codemirror_mode": {
    "name": "ipython",
    "version": 3
   },
   "file_extension": ".py",
   "mimetype": "text/x-python",
   "name": "python",
   "nbconvert_exporter": "python",
   "pygments_lexer": "ipython3",
   "version": "3.7.6"
  }
 },
 "nbformat": 4,
 "nbformat_minor": 4
}
