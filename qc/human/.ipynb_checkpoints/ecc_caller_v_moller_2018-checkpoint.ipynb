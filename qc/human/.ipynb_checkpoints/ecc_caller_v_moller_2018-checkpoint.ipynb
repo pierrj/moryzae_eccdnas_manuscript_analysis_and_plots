{
 "cells": [
  {
   "cell_type": "code",
   "execution_count": 108,
   "metadata": {},
   "outputs": [],
   "source": [
    "import csv\n",
    "import numpy as np"
   ]
  },
  {
   "cell_type": "code",
   "execution_count": 109,
   "metadata": {},
   "outputs": [],
   "source": [
    "moller_2018 = '2018_moller_muscle_eccs.txt'\n",
    "ecc_caller = 'SRR6315404.ecc_caller_out.details.txt'"
   ]
  },
  {
   "cell_type": "code",
   "execution_count": 110,
   "metadata": {},
   "outputs": [],
   "source": [
    "moller_2018_eccs = []\n",
    "with open(moller_2018, newline = '') as file:\n",
    "    file_reader = csv.reader(file, delimiter = '\\t')\n",
    "    for row in file_reader:\n",
    "        if row[0] == \"01t\" and row[1] != 'chrMT' and row[9] != \"lowqual\" :\n",
    "            if row[1][3:] == 'X':\n",
    "                chrom = 23\n",
    "            elif row[1][3:] == 'Y':\n",
    "                chrom = 24\n",
    "            else:\n",
    "                chrom = int(row[1][3:])\n",
    "            moller_2018_eccs.append([chrom, int(row[3]), int(row[4]), row[9]])"
   ]
  },
  {
   "cell_type": "code",
   "execution_count": 111,
   "metadata": {},
   "outputs": [],
   "source": [
    "ecc_caller_eccs = []\n",
    "with open(ecc_caller, newline = '') as file:\n",
    "    file_reader = csv.reader(file, delimiter = '\\t')\n",
    "    for row in file_reader:\n",
    "        chrom = int(row[0][7:9].strip(\"0\"))\n",
    "        if row[4] != 'lowq':\n",
    "            ecc_caller_eccs.append([chrom, int(row[1]), int(row[2]), row[4]])"
   ]
  },
  {
   "cell_type": "code",
   "execution_count": 112,
   "metadata": {},
   "outputs": [
    {
     "name": "stdout",
     "output_type": "stream",
     "text": [
      "8687\n",
      "2660\n"
     ]
    }
   ],
   "source": [
    "print(len(moller_2018_eccs))\n",
    "print(len(ecc_caller_eccs))"
   ]
  },
  {
   "cell_type": "code",
   "execution_count": 113,
   "metadata": {},
   "outputs": [],
   "source": [
    "moller_indexed = [[] for i in range(24)]\n",
    "for ecc in moller_2018_eccs:\n",
    "    scaffold_num = ecc[0]-1\n",
    "    moller_indexed[scaffold_num].append(ecc)\n",
    "moller_arrays = []\n",
    "for i in range(len(moller_indexed)):\n",
    "    moller_arrays.append(np.array(moller_indexed[i], dtype=object))"
   ]
  },
  {
   "cell_type": "code",
   "execution_count": 114,
   "metadata": {},
   "outputs": [],
   "source": [
    "ecc_caller_eccs_with_overlap = []\n",
    "ecc_caller_eccs_no_overlap = []\n",
    "tolerance = 10\n",
    "for ecc in ecc_caller_eccs:\n",
    "    start_region = ecc[1]\n",
    "    end_region= ecc[2]\n",
    "    eccs_for_scaffold = moller_arrays[ecc[0]-1]\n",
    "    ecc_matches = eccs_for_scaffold[np.logical_and(np.isclose((eccs_for_scaffold[:,1]).astype(int), start_region, atol=tolerance, rtol=0),\n",
    "                                    np.isclose((eccs_for_scaffold[:,2]).astype(int), end_region, atol=tolerance, rtol=0))]\n",
    "    if np.shape(ecc_matches)[0] > 0:\n",
    "        ecc_caller_eccs_with_overlap.append(ecc)\n",
    "    else:\n",
    "        ecc_caller_eccs_no_overlap.append(ecc)"
   ]
  },
  {
   "cell_type": "code",
   "execution_count": 115,
   "metadata": {},
   "outputs": [
    {
     "name": "stdout",
     "output_type": "stream",
     "text": [
      "2660\n",
      "1591\n",
      "0.5981203007518797\n"
     ]
    }
   ],
   "source": [
    "print(len(ecc_caller_eccs))\n",
    "print(len(ecc_caller_eccs_with_overlap))\n",
    "print(len(ecc_caller_eccs_with_overlap)/len(ecc_caller_eccs))"
   ]
  },
  {
   "cell_type": "code",
   "execution_count": 116,
   "metadata": {},
   "outputs": [
    {
     "name": "stdout",
     "output_type": "stream",
     "text": [
      "[1, 8434879, 8441793, 'hconf']\n",
      "[1, 8435039, 8438476, 'conf']\n",
      "[1, 11605918, 11606233, 'hconf']\n",
      "[1, 15895111, 15895265, 'hconf']\n",
      "[1, 17395565, 17395777, 'hconf']\n",
      "[1, 21532928, 21535922, 'conf']\n",
      "[1, 25911206, 25914043, 'hconf']\n",
      "[1, 26209718, 26212378, 'conf']\n",
      "[1, 26210467, 26212858, 'hconf']\n",
      "[1, 26210836, 26213797, 'conf']\n"
     ]
    }
   ],
   "source": [
    "for i in range(10):\n",
    "    print(ecc_caller_eccs_no_overlap[i])"
   ]
  },
  {
   "cell_type": "code",
   "execution_count": 57,
   "metadata": {},
   "outputs": [],
   "source": [
    "ecc_caller_eccs_highcoverage = []\n",
    "with open(ecc_caller, newline = '') as file:\n",
    "    file_reader = csv.reader(file, delimiter = '\\t')\n",
    "    for row in file_reader:\n",
    "        chrom = int(row[0][7:9].strip(\"0\"))\n",
    "        if row[4] != 'lowq' and int(row[3]) > 10:\n",
    "            ecc_caller_eccs_highcoverage.append([chrom, int(row[1]), int(row[2]), row[4]])"
   ]
  },
  {
   "cell_type": "code",
   "execution_count": 58,
   "metadata": {},
   "outputs": [],
   "source": [
    "ecc_caller_eccs_highcoverage_with_overlap = []\n",
    "ecc_caller_eccs_highcoverage_no_overlap = []\n",
    "tolerance = 10\n",
    "for ecc in ecc_caller_eccs_highcoverage:\n",
    "    start_region = ecc[1]\n",
    "    end_region= ecc[2]\n",
    "    eccs_for_scaffold = moller_arrays[ecc[0]-1]\n",
    "    ecc_matches = eccs_for_scaffold[np.logical_and(np.isclose((eccs_for_scaffold[:,1]).astype(int), start_region, atol=tolerance, rtol=0),\n",
    "                                    np.isclose((eccs_for_scaffold[:,2]).astype(int), end_region, atol=tolerance, rtol=0))]\n",
    "    if np.shape(ecc_matches)[0] > 0:\n",
    "        ecc_caller_eccs_highcoverage_with_overlap.append(ecc)\n",
    "    else:\n",
    "        ecc_caller_eccs_highcoverage_no_overlap.append(ecc)"
   ]
  },
  {
   "cell_type": "code",
   "execution_count": 59,
   "metadata": {},
   "outputs": [
    {
     "name": "stdout",
     "output_type": "stream",
     "text": [
      "1614\n",
      "69\n",
      "0.04275092936802974\n"
     ]
    }
   ],
   "source": [
    "print(len(ecc_caller_eccs_highcoverage))\n",
    "print(len(ecc_caller_eccs_highcoverage_with_overlap))\n",
    "print(len(ecc_caller_eccs_highcoverage_with_overlap)/len(ecc_caller_eccs_highcoverage))"
   ]
  },
  {
   "cell_type": "code",
   "execution_count": 31,
   "metadata": {},
   "outputs": [],
   "source": [
    "ecc_caller = 'SRR6315404.ecc_caller_out.uniq.details.txt'"
   ]
  },
  {
   "cell_type": "code",
   "execution_count": 32,
   "metadata": {},
   "outputs": [],
   "source": [
    "ecc_caller_eccs_uniq = []\n",
    "with open(ecc_caller, newline = '') as file:\n",
    "    file_reader = csv.reader(file, delimiter = '\\t')\n",
    "    for row in file_reader:\n",
    "        chrom = int(row[0][7:9].strip(\"0\"))\n",
    "        if row[4] != 'lowq':\n",
    "            ecc_caller_eccs_uniq.append([chrom, int(row[1]), int(row[2]), row[4]])"
   ]
  },
  {
   "cell_type": "code",
   "execution_count": 33,
   "metadata": {},
   "outputs": [],
   "source": [
    "ecc_caller_eccs_uniq_with_overlap = []\n",
    "ecc_caller_eccs_uniq_no_overlap = []\n",
    "tolerance = 10\n",
    "for ecc in ecc_caller_eccs_uniq:\n",
    "    start_region = ecc[1]\n",
    "    end_region= ecc[2]\n",
    "    eccs_for_scaffold = moller_arrays[ecc[0]-1]\n",
    "    ecc_matches = eccs_for_scaffold[np.logical_and(np.isclose((eccs_for_scaffold[:,1]).astype(int), start_region, atol=tolerance, rtol=0),\n",
    "                                    np.isclose((eccs_for_scaffold[:,2]).astype(int), end_region, atol=tolerance, rtol=0))]\n",
    "    if np.shape(ecc_matches)[0] > 0:\n",
    "        ecc_caller_eccs_uniq_with_overlap.append(ecc)\n",
    "    else:\n",
    "        ecc_caller_eccs_uniq_no_overlap.append(ecc)"
   ]
  },
  {
   "cell_type": "code",
   "execution_count": 34,
   "metadata": {},
   "outputs": [
    {
     "name": "stdout",
     "output_type": "stream",
     "text": [
      "2438\n",
      "1409\n",
      "0.5779327317473338\n"
     ]
    }
   ],
   "source": [
    "print(len(ecc_caller_eccs_uniq))\n",
    "print(len(ecc_caller_eccs_uniq_with_overlap))\n",
    "print(len(ecc_caller_eccs_uniq_with_overlap)/len(ecc_caller_eccs_uniq))"
   ]
  },
  {
   "cell_type": "code",
   "execution_count": 35,
   "metadata": {},
   "outputs": [
    {
     "name": "stdout",
     "output_type": "stream",
     "text": [
      "[1, 8434879, 8441793, 'hconf']\n",
      "[1, 8435039, 8438476, 'conf']\n",
      "[1, 11605918, 11606233, 'hconf']\n",
      "[1, 15895111, 15895265, 'hconf']\n",
      "[1, 17395565, 17395777, 'hconf']\n",
      "[1, 21532928, 21535922, 'conf']\n",
      "[1, 25911206, 25914043, 'hconf']\n",
      "[1, 26209718, 26212378, 'conf']\n",
      "[1, 26210467, 26212858, 'hconf']\n",
      "[1, 26210836, 26213797, 'conf']\n"
     ]
    }
   ],
   "source": [
    "for i in range(10):\n",
    "    print(ecc_caller_eccs_uniq_no_overlap[i])"
   ]
  }
 ],
 "metadata": {
  "kernelspec": {
   "display_name": "Python 3",
   "language": "python",
   "name": "python3"
  },
  "language_info": {
   "codemirror_mode": {
    "name": "ipython",
    "version": 3
   },
   "file_extension": ".py",
   "mimetype": "text/x-python",
   "name": "python",
   "nbconvert_exporter": "python",
   "pygments_lexer": "ipython3",
   "version": "3.7.6"
  }
 },
 "nbformat": 4,
 "nbformat_minor": 4
}
