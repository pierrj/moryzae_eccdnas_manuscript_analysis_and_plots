{
 "cells": [
  {
   "cell_type": "code",
   "execution_count": 6,
   "metadata": {},
   "outputs": [],
   "source": [
    "import csv\n",
    "import numpy as np\n",
    "\n",
    "# moller_2018 = sys.argv[1]\n",
    "# ecc_caller = sys.argv[2]\n",
    "# ecc_caller_uniq = sys.argv[3]\n",
    "# tissue = sys.argv[4]\n",
    "# sample = sys.argv[5]\n",
    "# output = sys.argv[6]"
   ]
  },
  {
   "cell_type": "code",
   "execution_count": 7,
   "metadata": {},
   "outputs": [],
   "source": [
    "moller_2018 = '2018_moller_leukocyte_eccs.txt'\n",
    "sample_moller = '09b'\n",
    "ecc_caller = 'SRR6315422.ecc_caller_out.details.txt'\n",
    "ecc_caller_uniq = 'SRR6315422.ecc_caller_out.uniq.details.txt'\n",
    "tissue = 'leukocyte'\n",
    "sample = 'SRR6315422'\n",
    "output = 'test'"
   ]
  },
  {
   "cell_type": "code",
   "execution_count": 8,
   "metadata": {},
   "outputs": [],
   "source": [
    "moller_2018_eccs = []\n",
    "with open(moller_2018, newline = '') as file:\n",
    "    file_reader = csv.reader(file, delimiter = '\\t')\n",
    "    for row in file_reader:\n",
    "        if row[0] == sample_moller and row[1] != 'chrMT' and row[9] != \"lowqual\" :\n",
    "            if row[1][3:] == 'X':\n",
    "                chrom = 23\n",
    "            elif row[1][3:] == 'Y':\n",
    "                chrom = 24\n",
    "            else:\n",
    "                chrom = int(row[1][3:])\n",
    "            moller_2018_eccs.append([chrom, int(row[3]), int(row[4]), row[9]])\n",
    "\n",
    "ecc_caller_eccs = []\n",
    "with open(ecc_caller, newline = '') as file:\n",
    "    file_reader = csv.reader(file, delimiter = '\\t')\n",
    "    for row in file_reader:\n",
    "        chrom = int(row[0][7:9].strip(\"0\"))\n",
    "        if row[4] != 'lowq':\n",
    "            ecc_caller_eccs.append([chrom, int(row[1]), int(row[2]), row[4]])\n",
    "\n",
    "\n",
    "moller_indexed = [[] for i in range(24)]\n",
    "for ecc in moller_2018_eccs:\n",
    "    scaffold_num = ecc[0]-1\n",
    "    moller_indexed[scaffold_num].append(ecc)\n",
    "moller_arrays = []\n",
    "for i in range(len(moller_indexed)):\n",
    "    moller_arrays.append(np.array(moller_indexed[i], dtype=object))\n",
    "\n",
    "ecc_caller_eccs_with_overlap = []\n",
    "ecc_caller_eccs_no_overlap = []\n",
    "tolerance = 10\n",
    "for ecc in ecc_caller_eccs:\n",
    "    start_region = ecc[1]\n",
    "    end_region= ecc[2]\n",
    "    eccs_for_scaffold = moller_arrays[ecc[0]-1]\n",
    "    ecc_matches = eccs_for_scaffold[np.logical_and(np.isclose((eccs_for_scaffold[:,1]).astype(int), start_region, atol=tolerance, rtol=0),\n",
    "                                    np.isclose((eccs_for_scaffold[:,2]).astype(int), end_region, atol=tolerance, rtol=0))]\n",
    "    if np.shape(ecc_matches)[0] > 0:\n",
    "        ecc_caller_eccs_with_overlap.append(ecc)\n",
    "    else:\n",
    "        ecc_caller_eccs_no_overlap.append(ecc)\n",
    "\n",
    "\n",
    "ecc_caller_eccs_highcoverage = []\n",
    "with open(ecc_caller, newline = '') as file:\n",
    "    file_reader = csv.reader(file, delimiter = '\\t')\n",
    "    for row in file_reader:\n",
    "        chrom = int(row[0][7:9].strip(\"0\"))\n",
    "        if row[4] != 'lowq' and int(row[3]) > 10:\n",
    "            ecc_caller_eccs_highcoverage.append([chrom, int(row[1]), int(row[2]), row[4]])\n",
    "\n",
    "ecc_caller_eccs_highcoverage_with_overlap = []\n",
    "ecc_caller_eccs_highcoverage_no_overlap = []\n",
    "tolerance = 10\n",
    "for ecc in ecc_caller_eccs_highcoverage:\n",
    "    start_region = ecc[1]\n",
    "    end_region= ecc[2]\n",
    "    eccs_for_scaffold = moller_arrays[ecc[0]-1]\n",
    "    ecc_matches = eccs_for_scaffold[np.logical_and(np.isclose((eccs_for_scaffold[:,1]).astype(int), start_region, atol=tolerance, rtol=0),\n",
    "                                    np.isclose((eccs_for_scaffold[:,2]).astype(int), end_region, atol=tolerance, rtol=0))]\n",
    "    if np.shape(ecc_matches)[0] > 0:\n",
    "        ecc_caller_eccs_highcoverage_with_overlap.append(ecc)\n",
    "    else:\n",
    "        ecc_caller_eccs_highcoverage_no_overlap.append(ecc)         \n",
    "\n",
    "ecc_caller_eccs_uniq = []\n",
    "with open(ecc_caller_uniq, newline = '') as file:\n",
    "    file_reader = csv.reader(file, delimiter = '\\t')\n",
    "    for row in file_reader:\n",
    "        chrom = int(row[0][7:9].strip(\"0\"))\n",
    "        if row[4] != 'lowq':\n",
    "            ecc_caller_eccs_uniq.append([chrom, int(row[1]), int(row[2]), row[4]])\n",
    "\n",
    "\n",
    "ecc_caller_eccs_uniq_with_overlap = []\n",
    "ecc_caller_eccs_uniq_no_overlap = []\n",
    "tolerance = 10\n",
    "for ecc in ecc_caller_eccs_uniq:\n",
    "    start_region = ecc[1]\n",
    "    end_region= ecc[2]\n",
    "    eccs_for_scaffold = moller_arrays[ecc[0]-1]\n",
    "    ecc_matches = eccs_for_scaffold[np.logical_and(np.isclose((eccs_for_scaffold[:,1]).astype(int), start_region, atol=tolerance, rtol=0),\n",
    "                                    np.isclose((eccs_for_scaffold[:,2]).astype(int), end_region, atol=tolerance, rtol=0))]\n",
    "    if np.shape(ecc_matches)[0] > 0:\n",
    "        ecc_caller_eccs_uniq_with_overlap.append(ecc)\n",
    "    else:\n",
    "        ecc_caller_eccs_uniq_no_overlap.append(ecc)"
   ]
  },
  {
   "cell_type": "code",
   "execution_count": 9,
   "metadata": {},
   "outputs": [],
   "source": [
    "moller_2018_eccs_count = len(moller_2018_eccs)\n",
    "ecc_caller_eccs_count = len(ecc_caller_eccs)\n",
    "ecc_caller_eccs_w_overlap_count = len(ecc_caller_eccs_with_overlap)\n",
    "ecc_caller_eccs_highcoverage_count = len(ecc_caller_eccs_highcoverage)\n",
    "ecc_caller_eccs_highcoverage_w_overlap_count = len(ecc_caller_eccs_highcoverage_with_overlap)\n",
    "ecc_caller_uniq_eccs_count = len(ecc_caller_eccs_uniq)\n",
    "ecc_caller_uniq_eccs_w_overlap_count = len(ecc_caller_eccs_uniq_with_overlap)"
   ]
  },
  {
   "cell_type": "code",
   "execution_count": 10,
   "metadata": {},
   "outputs": [
    {
     "name": "stdout",
     "output_type": "stream",
     "text": [
      "['SRR6315422', 'leukocyte', 1162, 23, 16, 9, 5, 16, 12]\n"
     ]
    }
   ],
   "source": [
    "print([sample, tissue, moller_2018_eccs_count, ecc_caller_eccs_count, ecc_caller_eccs_w_overlap_count, \n",
    "            ecc_caller_eccs_highcoverage_count, ecc_caller_eccs_highcoverage_w_overlap_count,\n",
    "            ecc_caller_uniq_eccs_count, ecc_caller_uniq_eccs_w_overlap_count])"
   ]
  },
  {
   "cell_type": "code",
   "execution_count": 18,
   "metadata": {},
   "outputs": [],
   "source": [
    "with open(output, 'w', newline = '') as output_csv:\n",
    "    w = csv.writer(output_csv, delimiter = '\\t')\n",
    "    w.writerow([sample, tissue, moller_2018_eccs_count, ecc_caller_eccs_count, ecc_caller_eccs_w_overlap_count, \n",
    "            ecc_caller_eccs_highcoverage_count, ecc_caller_eccs_highcoverage_w_overlap_count,\n",
    "            ecc_caller_uniq_eccs_count, ecc_caller_uniq_eccs_w_overlap_count])"
   ]
  }
 ],
 "metadata": {
  "kernelspec": {
   "display_name": "Python 3",
   "language": "python",
   "name": "python3"
  },
  "language_info": {
   "codemirror_mode": {
    "name": "ipython",
    "version": 3
   },
   "file_extension": ".py",
   "mimetype": "text/x-python",
   "name": "python",
   "nbconvert_exporter": "python",
   "pygments_lexer": "ipython3",
   "version": "3.7.6"
  }
 },
 "nbformat": 4,
 "nbformat_minor": 4
}
