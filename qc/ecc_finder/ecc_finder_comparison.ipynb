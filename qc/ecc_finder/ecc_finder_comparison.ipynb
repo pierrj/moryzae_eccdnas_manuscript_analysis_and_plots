{
 "cells": [
  {
   "cell_type": "code",
   "execution_count": null,
   "metadata": {},
   "outputs": [],
   "source": [
    "#MIT License\n",
    "#\n",
    "#Copyright (c) 2021 Pierre Michel Joubert\n",
    "#\n",
    "#Permission is hereby granted, free of charge, to any person obtaining a copy\n",
    "#of this software and associated documentation files (the \"Software\"), to deal\n",
    "#in the Software without restriction, including without limitation the rights\n",
    "#to use, copy, modify, merge, publish, distribute, sublicense, and/or sell\n",
    "#copies of the Software, and to permit persons to whom the Software is\n",
    "#furnished to do so, subject to the following conditions:\n",
    "#\n",
    "#The above copyright notice and this permission notice shall be included in all\n",
    "#copies or substantial portions of the Software.\n",
    "#\n",
    "#THE SOFTWARE IS PROVIDED \"AS IS\", WITHOUT WARRANTY OF ANY KIND, EXPRESS OR\n",
    "#IMPLIED, INCLUDING BUT NOT LIMITED TO THE WARRANTIES OF MERCHANTABILITY,\n",
    "#FITNESS FOR A PARTICULAR PURPOSE AND NONINFRINGEMENT. IN NO EVENT SHALL THE\n",
    "#AUTHORS OR COPYRIGHT HOLDERS BE LIABLE FOR ANY CLAIM, DAMAGES OR OTHER\n",
    "#LIABILITY, WHETHER IN AN ACTION OF CONTRACT, TORT OR OTHERWISE, ARISING FROM,\n",
    "#OUT OF OR IN CONNECTION WITH THE SOFTWARE OR THE USE OR OTHER DEALINGS IN THE\n",
    "#SOFTWARE."
   ]
  },
  {
   "cell_type": "code",
   "execution_count": 2,
   "metadata": {},
   "outputs": [],
   "source": [
    "import csv\n",
    "import numpy as np"
   ]
  },
  {
   "cell_type": "code",
   "execution_count": 3,
   "metadata": {},
   "outputs": [],
   "source": [
    "tolerance = 10"
   ]
  },
  {
   "cell_type": "code",
   "execution_count": 4,
   "metadata": {},
   "outputs": [],
   "source": [
    "chromosome_scaffolds = ['NC_000001.10',\n",
    "'NC_000002.11',\n",
    "'NC_000003.11',\n",
    "'NC_000004.11',\n",
    "'NC_000005.9',\n",
    "'NC_000006.11',\n",
    "'NC_000007.13',\n",
    "'NC_000008.10',\n",
    "'NC_000009.11',\n",
    "'NC_000010.10',\n",
    "'NC_000011.9',\n",
    "'NC_000012.11',\n",
    "'NC_000013.10',\n",
    "'NC_000014.8',\n",
    "'NC_000015.9',\n",
    "'NC_000016.9',\n",
    "'NC_000017.10',\n",
    "'NC_000018.9',\n",
    "'NC_000019.9',\n",
    "'NC_000020.10',\n",
    "'NC_000021.8',\n",
    "'NC_000022.10',\n",
    "'NC_000023.10',\n",
    "'NC_000024.9'\n",
    "]\n",
    "\n",
    "samples = [\n",
    "'SRR6315399',\n",
    "'SRR6315400',\n",
    "'SRR6315403',\n",
    "'SRR6315404',\n",
    "'SRR6315405',\n",
    "'SRR6315406',\n",
    "'SRR6315407',\n",
    "'SRR6315408',\n",
    "'SRR6315409',\n",
    "'SRR6315410',\n",
    "'SRR6315411',\n",
    "'SRR6315412',\n",
    "'SRR6315413',\n",
    "'SRR6315414',\n",
    "'SRR6315415',\n",
    "'SRR6315416',\n",
    "'SRR6315417',\n",
    "'SRR6315418',\n",
    "'SRR6315419',\n",
    "'SRR6315420',\n",
    "'SRR6315421',\n",
    "'SRR6315422',\n",
    "'SRR6315425',\n",
    "'SRR6315426',\n",
    "'SRR6315427',\n",
    "'SRR6315428',\n",
    "'SRR6315429',\n",
    "'SRR6315430',\n",
    "'SRR6315431',\n",
    "'SRR6315432',\n",
    "'SRR6315433',\n",
    "'SRR6315434'\n",
    "]"
   ]
  },
  {
   "cell_type": "code",
   "execution_count": 5,
   "metadata": {},
   "outputs": [],
   "source": [
    "#for sample in samples:\n",
    "\n",
    "sample = \"SRR6315399\""
   ]
  },
  {
   "cell_type": "code",
   "execution_count": 6,
   "metadata": {},
   "outputs": [
    {
     "name": "stdout",
     "output_type": "stream",
     "text": [
      "1267\n"
     ]
    }
   ],
   "source": [
    "ecc_caller_eccs = []\n",
    "with open(sample+\".ecc_caller_out.details.txt\", newline = '') as file:\n",
    "    file_reader = csv.reader(file, delimiter = '\\t')\n",
    "    for row in file_reader:\n",
    "        chrom = int(row[0][7:9].strip(\"0\"))\n",
    "        if row[4] != 'lowq': ## remove lowq eccdnas\n",
    "            ecc_caller_eccs.append([chrom, int(row[1]), int(row[2]), int(row[3])])\n",
    "print(len(ecc_caller_eccs))"
   ]
  },
  {
   "cell_type": "code",
   "execution_count": 112,
   "metadata": {},
   "outputs": [
    {
     "name": "stdout",
     "output_type": "stream",
     "text": [
      "291\n"
     ]
    }
   ],
   "source": [
    "ecc_finder_eccs = []\n",
    "\n",
    "\n",
    "# with open(sample+\".ecc_finder.csv\", newline = '') as file:\n",
    "\n",
    "with open(\"SRR6315399.ecc_finder.csv\", newline = '') as file:\n",
    "    file_reader = csv.reader(file, delimiter = '\\t')\n",
    "    for row in file_reader:\n",
    "        if row[0] in chromosome_scaffolds: ## remove eccs called on other scaffolds in genome\n",
    "            chrom = int(row[0][7:9].strip(\"0\"))\n",
    "            ecc_finder_eccs.append([chrom, int(row[1]), int(row[2]), int(row[3])])\n",
    "print(len(ecc_finder_eccs))"
   ]
  },
  {
   "cell_type": "code",
   "execution_count": 7,
   "metadata": {},
   "outputs": [],
   "source": [
    "ecc_caller_indexed = [[] for i in range(24)]\n",
    "for ecc in ecc_caller_eccs:\n",
    "    scaffold_num = ecc[0]-1\n",
    "    ecc_caller_indexed[scaffold_num].append(ecc)\n",
    "ecc_caller_arrays = []\n",
    "for i in range(len(ecc_caller_indexed)):\n",
    "    ecc_caller_arrays.append(np.array(ecc_caller_indexed[i], dtype=object))"
   ]
  },
  {
   "cell_type": "code",
   "execution_count": 114,
   "metadata": {},
   "outputs": [
    {
     "name": "stdout",
     "output_type": "stream",
     "text": [
      "209\n",
      "82\n",
      "0.718213058419244\n"
     ]
    }
   ],
   "source": [
    "ecc_finder_eccs_with_overlap = []\n",
    "ecc_finder_eccs_no_overlap = []\n",
    "for ecc in ecc_finder_eccs:\n",
    "    start_region = ecc[1]\n",
    "    end_region = ecc[2]\n",
    "    eccs_for_scaffold = ecc_caller_arrays[ecc[0]-1]\n",
    "    ecc_matches = eccs_for_scaffold[np.logical_and(np.isclose((eccs_for_scaffold[:,1]).astype(int), start_region, atol=tolerance, rtol=0),\n",
    "                                np.isclose((eccs_for_scaffold[:,2]).astype(int), end_region, atol=tolerance, rtol=0))] # look to see if the two eccdnas mostly overlap\n",
    "    if np.shape(ecc_matches)[0] > 0:\n",
    "        ecc_finder_eccs_with_overlap.append(ecc)\n",
    "    else:\n",
    "        ecc_finder_eccs_no_overlap.append(ecc)\n",
    "\n",
    "print(len(ecc_finder_eccs_with_overlap))\n",
    "print(len(ecc_finder_eccs_no_overlap))\n",
    "print(len(ecc_finder_eccs_with_overlap)/len(ecc_finder_eccs))"
   ]
  },
  {
   "cell_type": "code",
   "execution_count": 117,
   "metadata": {},
   "outputs": [
    {
     "data": {
      "text/plain": [
       "[[1, 1378584, 1378815, 415],\n",
       " [1, 9743151, 9743442, 30],\n",
       " [1, 10122370, 10122631, 51315],\n",
       " [1, 13810496, 13833293, 5],\n",
       " [1, 19321899, 19323452, 65],\n",
       " [1, 28240215, 28241976, 78],\n",
       " [1, 31215054, 31228621, 16],\n",
       " [1, 64470473, 64471425, 235],\n",
       " [1, 121478372, 121485436, 168],\n",
       " [1, 231406127, 231421612, 1038],\n",
       " [2, 119200403, 119226003, 11],\n",
       " [2, 135446804, 135452894, 42],\n",
       " [2, 228644093, 228644490, 1941],\n",
       " [3, 15690315, 15713264, 8],\n",
       " [3, 30574960, 30575223, 12],\n",
       " [3, 190056460, 190066055, 6],\n",
       " [4, 9211702, 9274603, 11],\n",
       " [4, 179018874, 179046257, 6],\n",
       " [4, 187208298, 187208571, 6],\n",
       " [6, 21573807, 21574421, 886],\n",
       " [6, 58773629, 58780166, 143],\n",
       " [7, 61967154, 61988675, 7],\n",
       " [7, 97660756, 97662643, 7],\n",
       " [7, 142101678, 142102476, 14],\n",
       " [8, 25965394, 25965748, 175],\n",
       " [8, 46838974, 46861931, 5],\n",
       " [8, 103456236, 103460486, 5],\n",
       " [8, 146082588, 146082861, 34],\n",
       " [9, 66472337, 66476366, 9],\n",
       " [9, 125695751, 125696046, 816],\n",
       " [9, 134022057, 134022629, 416],\n",
       " [9, 134189800, 134190161, 346],\n",
       " [1, 21569576, 21569896, 385],\n",
       " [1, 42525806, 42546559, 411],\n",
       " [1, 70653237, 70653525, 24549],\n",
       " [1, 131227187, 131244305, 18142],\n",
       " [11, 447532, 447787, 78],\n",
       " [11, 51567253, 51594200, 15],\n",
       " [11, 110056112, 110090070, 17],\n",
       " [11, 110437297, 110462471, 9],\n",
       " [11, 117744469, 117766276, 6],\n",
       " [12, 54739578, 54740242, 50],\n",
       " [12, 56218581, 56219670, 12],\n",
       " [12, 105995813, 106004844, 131],\n",
       " [13, 100739748, 100743988, 286],\n",
       " [14, 89929230, 89929435, 8509],\n",
       " [16, 66983397, 66984111, 428],\n",
       " [16, 70481525, 70482535, 9],\n",
       " [16, 87910081, 87910861, 5],\n",
       " [17, 61777, 62515, 63],\n",
       " [17, 2148930, 2149252, 52],\n",
       " [17, 31987857, 32020016, 5],\n",
       " [17, 38180660, 38181126, 7],\n",
       " [17, 42915463, 42915773, 9],\n",
       " [17, 59927675, 59927975, 46],\n",
       " [17, 73395609, 73396002, 8],\n",
       " [17, 76316579, 76317432, 254],\n",
       " [18, 7145097, 7145430, 945],\n",
       " [18, 10486432, 10514062, 17],\n",
       " [18, 15090213, 15090488, 104],\n",
       " [18, 48493443, 48493730, 1126],\n",
       " [18, 76697205, 76699100, 104],\n",
       " [19, 2469965, 2470291, 25],\n",
       " [19, 4877170, 4877561, 3717],\n",
       " [19, 11211475, 11211796, 131],\n",
       " [19, 17779504, 17779833, 6],\n",
       " [19, 18087146, 18087637, 120],\n",
       " [19, 18917430, 18917840, 142],\n",
       " [19, 27731799, 27740624, 5],\n",
       " [19, 38235708, 38236084, 1386],\n",
       " [19, 48690005, 48690313, 42],\n",
       " [2, 35781949, 35782388, 9],\n",
       " [2, 62958579, 62958942, 214],\n",
       " [22, 17538088, 17572447, 8],\n",
       " [22, 21908983, 21913128, 13],\n",
       " [22, 29177442, 29179256, 5],\n",
       " [22, 43185768, 43186166, 1585],\n",
       " [22, 43509163, 43511581, 1171],\n",
       " [22, 44325163, 44372059, 6],\n",
       " [23, 61682048, 61736325, 6],\n",
       " [23, 134469154, 134469555, 72],\n",
       " [24, 20036148, 20037537, 9]]"
      ]
     },
     "execution_count": 117,
     "metadata": {},
     "output_type": "execute_result"
    }
   ],
   "source": [
    "ecc_finder_eccs_no_overlap"
   ]
  },
  {
   "cell_type": "code",
   "execution_count": 115,
   "metadata": {},
   "outputs": [],
   "source": [
    "ecc_finder_indexed = [[] for i in range(24)]\n",
    "for ecc in ecc_finder_eccs:\n",
    "    scaffold_num = ecc[0]-1\n",
    "    ecc_finder_indexed[scaffold_num].append(ecc)\n",
    "ecc_finder_arrays = []\n",
    "for i in range(len(ecc_finder_indexed)):\n",
    "    ecc_finder_arrays.append(np.array(ecc_finder_indexed[i], dtype=object))"
   ]
  },
  {
   "cell_type": "code",
   "execution_count": 116,
   "metadata": {},
   "outputs": [
    {
     "name": "stdout",
     "output_type": "stream",
     "text": [
      "346\n",
      "921\n",
      "0.27308602999210735\n"
     ]
    }
   ],
   "source": [
    "ecc_caller_eccs_with_overlap = []\n",
    "ecc_caller_eccs_no_overlap = []\n",
    "for ecc in ecc_caller_eccs:\n",
    "    start_region = ecc[1]\n",
    "    end_region = ecc[2]\n",
    "    eccs_for_scaffold = ecc_finder_arrays[ecc[0]-1]\n",
    "    ecc_matches = eccs_for_scaffold[np.logical_and(np.isclose((eccs_for_scaffold[:,1]).astype(int), start_region, atol=tolerance, rtol=0),\n",
    "                                np.isclose((eccs_for_scaffold[:,2]).astype(int), end_region, atol=tolerance, rtol=0))] # look to see if the two eccdnas mostly overlap\n",
    "    if np.shape(ecc_matches)[0] > 0:\n",
    "        ecc_caller_eccs_with_overlap.append(ecc)\n",
    "    else:\n",
    "        ecc_caller_eccs_no_overlap.append(ecc)\n",
    "\n",
    "print(len(ecc_caller_eccs_with_overlap))\n",
    "print(len(ecc_caller_eccs_no_overlap))\n",
    "print(len(ecc_caller_eccs_with_overlap)/len(ecc_caller_eccs))"
   ]
  },
  {
   "cell_type": "code",
   "execution_count": 11,
   "metadata": {},
   "outputs": [
    {
     "name": "stdout",
     "output_type": "stream",
     "text": [
      "length_0_reads_0_pvalue_1.csv\n",
      "529\n",
      "397\n",
      "132\n",
      "0.7504725897920604\n",
      "length_0.csv\n",
      "372\n",
      "324\n",
      "48\n",
      "0.8709677419354839\n",
      "reads_0.csv\n",
      "412\n",
      "302\n",
      "110\n",
      "0.7330097087378641\n",
      "peaks_10000.csv\n",
      "309\n",
      "253\n",
      "56\n",
      "0.8187702265372169\n",
      "peaks_100.csv\n",
      "282\n",
      "244\n",
      "38\n",
      "0.8652482269503546\n",
      "default.csv\n",
      "291\n",
      "247\n",
      "44\n",
      "0.8487972508591065\n",
      "length_0_reads_0.csv\n",
      "504\n",
      "387\n",
      "117\n",
      "0.7678571428571429\n",
      "pvalue_1.csv\n",
      "299\n",
      "251\n",
      "48\n",
      "0.8394648829431438\n"
     ]
    }
   ],
   "source": [
    "\n",
    "params = [\n",
    "    'length_0_reads_0_pvalue_1.csv',\n",
    "    'length_0.csv',\n",
    "    'reads_0.csv',\n",
    "    'peaks_10000.csv',\n",
    "    'peaks_100.csv',\n",
    "    'default.csv',\n",
    "    'length_0_reads_0.csv',\n",
    "    'pvalue_1.csv'\n",
    "]\n",
    "\n",
    "tolerance = 10000\n",
    "\n",
    "for param in params:\n",
    "    print(param)\n",
    "    ecc_finder_eccs = []\n",
    "    with open('test_params/'+param, newline = '') as file:\n",
    "        file_reader = csv.reader(file, delimiter = '\\t')\n",
    "        for row in file_reader:\n",
    "            if row[0] in chromosome_scaffolds: ## remove eccs called on other scaffolds in genome\n",
    "                chrom = int(row[0][7:9].strip(\"0\"))\n",
    "                ecc_finder_eccs.append([chrom, int(row[1]), int(row[2]), int(row[3])])\n",
    "    print(len(ecc_finder_eccs))\n",
    "    ecc_finder_eccs_with_overlap = []\n",
    "    ecc_finder_eccs_no_overlap = []\n",
    "    for ecc in ecc_finder_eccs:\n",
    "        start_region = ecc[1]\n",
    "        end_region = ecc[2]\n",
    "        eccs_for_scaffold = ecc_caller_arrays[ecc[0]-1]\n",
    "        ecc_matches = eccs_for_scaffold[np.logical_and(np.isclose((eccs_for_scaffold[:,1]).astype(int), start_region, atol=tolerance, rtol=0),\n",
    "                                    np.isclose((eccs_for_scaffold[:,2]).astype(int), end_region, atol=tolerance, rtol=0))] # look to see if the two eccdnas mostly overlap\n",
    "        if np.shape(ecc_matches)[0] > 0:\n",
    "            ecc_finder_eccs_with_overlap.append(ecc)\n",
    "        else:\n",
    "            ecc_finder_eccs_no_overlap.append(ecc)\n",
    "\n",
    "    print(len(ecc_finder_eccs_with_overlap))\n",
    "    print(len(ecc_finder_eccs_no_overlap))\n",
    "    print(len(ecc_finder_eccs_with_overlap)/len(ecc_finder_eccs))"
   ]
  }
 ],
 "metadata": {
  "kernelspec": {
   "display_name": "Python 3.10.5 ('imbalanced_learn')",
   "language": "python",
   "name": "python3"
  },
  "language_info": {
   "codemirror_mode": {
    "name": "ipython",
    "version": 3
   },
   "file_extension": ".py",
   "mimetype": "text/x-python",
   "name": "python",
   "nbconvert_exporter": "python",
   "pygments_lexer": "ipython3",
   "version": "3.10.5"
  },
  "orig_nbformat": 4,
  "vscode": {
   "interpreter": {
    "hash": "c2315821898a4f1de250b11175021d0bad67aa42c758ebaa32223c2f00dcd7fb"
   }
  }
 },
 "nbformat": 4,
 "nbformat_minor": 2
}
